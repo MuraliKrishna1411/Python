{
 "cells": [
  {
   "cell_type": "code",
   "execution_count": 12,
   "metadata": {},
   "outputs": [],
   "source": [
    "class xyz :\n",
    "    def __init__(self , a , b,c) :\n",
    "        self.a = a \n",
    "        self.b = b\n",
    "        self.c = c \n",
    "    \n",
    "    def test(self) :\n",
    "        return (\"this is my first test metond of xyz class \")\n",
    "        \n",
    "    def test1(self) :\n",
    "        return (\"this is a test1 meth of xyz class \")\n",
    "    \n",
    "    def test2(self) : \n",
    "        return (\"this is my test2 meth of xyz class \")"
   ]
  },
  {
   "cell_type": "code",
   "execution_count": 13,
   "metadata": {},
   "outputs": [],
   "source": [
    "p = xyz(1,2,3)"
   ]
  },
  {
   "cell_type": "code",
   "execution_count": 14,
   "metadata": {},
   "outputs": [
    {
     "data": {
      "text/plain": [
       "'this is my first test metond of xyz class '"
      ]
     },
     "execution_count": 14,
     "metadata": {},
     "output_type": "execute_result"
    }
   ],
   "source": [
    "p.test()"
   ]
  },
  {
   "cell_type": "code",
   "execution_count": null,
   "metadata": {},
   "outputs": [],
   "source": []
  },
  {
   "cell_type": "code",
   "execution_count": 15,
   "metadata": {},
   "outputs": [],
   "source": [
    "class xyz1(xyz) :          # this is inheriting xyz class\n",
    "    pass"
   ]
  },
  {
   "cell_type": "code",
   "execution_count": 17,
   "metadata": {},
   "outputs": [
    {
     "ename": "TypeError",
     "evalue": "__init__() missing 3 required positional arguments: 'a', 'b', and 'c'",
     "output_type": "error",
     "traceback": [
      "\u001b[1;31m---------------------------------------------------------------------------\u001b[0m",
      "\u001b[1;31mTypeError\u001b[0m                                 Traceback (most recent call last)",
      "\u001b[1;32m~\\AppData\\Local\\Temp\\ipykernel_9916\\2445763371.py\u001b[0m in \u001b[0;36m<module>\u001b[1;34m\u001b[0m\n\u001b[1;32m----> 1\u001b[1;33m \u001b[0mq\u001b[0m \u001b[1;33m=\u001b[0m \u001b[0mxyz1\u001b[0m\u001b[1;33m(\u001b[0m\u001b[1;33m)\u001b[0m           \u001b[1;31m# we need use like xyz class\u001b[0m\u001b[1;33m\u001b[0m\u001b[1;33m\u001b[0m\u001b[0m\n\u001b[0m",
      "\u001b[1;31mTypeError\u001b[0m: __init__() missing 3 required positional arguments: 'a', 'b', and 'c'"
     ]
    }
   ],
   "source": [
    "q = xyz1()           # we need use like xyz class"
   ]
  },
  {
   "cell_type": "code",
   "execution_count": 19,
   "metadata": {},
   "outputs": [],
   "source": [
    "q = xyz1(3,4,5)         # we have used a,b, c"
   ]
  },
  {
   "cell_type": "code",
   "execution_count": 15,
   "metadata": {},
   "outputs": [
    {
     "name": "stdout",
     "output_type": "stream",
     "text": [
      "this is a test1 meth of xyz class \n"
     ]
    }
   ],
   "source": [
    "q.test1()"
   ]
  },
  {
   "cell_type": "code",
   "execution_count": 22,
   "metadata": {},
   "outputs": [],
   "source": [
    "class xyz1(xyz) :\n",
    "    def test(self) :\n",
    "        print(\"this is a test meth aviable in xyz1\")\n",
    "        \n",
    "        \n",
    "    "
   ]
  },
  {
   "cell_type": "code",
   "execution_count": 23,
   "metadata": {},
   "outputs": [],
   "source": [
    "g = xyz1(4,5,6)"
   ]
  },
  {
   "cell_type": "code",
   "execution_count": 24,
   "metadata": {},
   "outputs": [
    {
     "name": "stdout",
     "output_type": "stream",
     "text": [
      "this is a test meth aviable in xyz1\n"
     ]
    }
   ],
   "source": [
    "g.test()               # if parent is haveing same functiona and child is also haveing function name then,\n",
    "                       # we will get function from child class only, child has its own way of working"
   ]
  },
  {
   "cell_type": "code",
   "execution_count": 26,
   "metadata": {},
   "outputs": [],
   "source": [
    "class xyz:\n",
    "    def __init__(self, a,b,c) :\n",
    "        self.a= a \n",
    "        self.b= b \n",
    "        self.c= c \n",
    "        \n",
    "        \n",
    "    def test(self) : \n",
    "        print(\"this is a meth of xyz class \")\n",
    "    \n",
    "class xyz1:\n",
    "    \n",
    "    def __init__(self , p,q,v) :\n",
    "        self.p = p \n",
    "        self.v = v \n",
    "        self.q = q \n",
    "        \n",
    "    def test1(self) : \n",
    "        print(\"this is a meth form class xyz1\")\n",
    "        \n",
    "class child(xyz1,xyz):\n",
    "    def __init__(self , *args):                    # multiclass inhereitance\n",
    "        xyz.__init__(self,*args) \n",
    "        xyz1.__init__(self,*args)"
   ]
  },
  {
   "cell_type": "code",
   "execution_count": 31,
   "metadata": {},
   "outputs": [],
   "source": [
    "n = child(4,5,6)             # in this case child is considering first value same for both xyz and xyz1  using args and __init__"
   ]
  },
  {
   "cell_type": "code",
   "execution_count": 28,
   "metadata": {},
   "outputs": [
    {
     "data": {
      "text/plain": [
       "4"
      ]
     },
     "execution_count": 28,
     "metadata": {},
     "output_type": "execute_result"
    }
   ],
   "source": [
    "n.p              "
   ]
  },
  {
   "cell_type": "code",
   "execution_count": 29,
   "metadata": {},
   "outputs": [
    {
     "data": {
      "text/plain": [
       "4"
      ]
     },
     "execution_count": 29,
     "metadata": {},
     "output_type": "execute_result"
    }
   ],
   "source": [
    "n.a"
   ]
  },
  {
   "cell_type": "code",
   "execution_count": null,
   "metadata": {},
   "outputs": [],
   "source": []
  },
  {
   "cell_type": "code",
   "execution_count": 25,
   "metadata": {},
   "outputs": [],
   "source": [
    "class xyz:\n",
    "    def __init__(self, a,b,c) :\n",
    "        self.a= a \n",
    "        self.b= b \n",
    "        self.c= c \n",
    "        \n",
    "        \n",
    "    def test(self) : \n",
    "        print(\"this is a meth of xyz class \")\n",
    "    \n",
    "class xyz1:\n",
    "    \n",
    "    def __init__(self , p,q,v) :\n",
    "        self.p = p \n",
    "        self.v = v \n",
    "        self.q = q \n",
    "        \n",
    "    def test1(self) : \n",
    "        print(\"this is a meth form class xyz1\")\n",
    "        \n",
    "class child(xyz1,xyz):\n",
    "    def __init__(self , *args ,**kwargs):                    # multiclass inhereitance\n",
    "        xyz.__init__(self,*args) \n",
    "        xyz1.__init__(self,**kwargs)\n",
    "    "
   ]
  },
  {
   "cell_type": "code",
   "execution_count": 52,
   "metadata": {},
   "outputs": [],
   "source": [
    "n = child(4,5,6,p = 3,q = 4,v  = 5)         # here we are using **kwargs and "
   ]
  },
  {
   "cell_type": "code",
   "execution_count": 53,
   "metadata": {},
   "outputs": [
    {
     "data": {
      "text/plain": [
       "3"
      ]
     },
     "execution_count": 53,
     "metadata": {},
     "output_type": "execute_result"
    }
   ],
   "source": [
    "n.p      "
   ]
  },
  {
   "cell_type": "code",
   "execution_count": 54,
   "metadata": {},
   "outputs": [
    {
     "data": {
      "text/plain": [
       "4"
      ]
     },
     "execution_count": 54,
     "metadata": {},
     "output_type": "execute_result"
    }
   ],
   "source": [
    "n.q"
   ]
  },
  {
   "cell_type": "code",
   "execution_count": 55,
   "metadata": {},
   "outputs": [
    {
     "data": {
      "text/plain": [
       "4"
      ]
     },
     "execution_count": 55,
     "metadata": {},
     "output_type": "execute_result"
    }
   ],
   "source": [
    "n.a"
   ]
  },
  {
   "cell_type": "code",
   "execution_count": 56,
   "metadata": {},
   "outputs": [
    {
     "name": "stdout",
     "output_type": "stream",
     "text": [
      "this is a meth form class xyz1\n"
     ]
    }
   ],
   "source": [
    "n.test1()"
   ]
  },
  {
   "cell_type": "code",
   "execution_count": 57,
   "metadata": {},
   "outputs": [
    {
     "name": "stdout",
     "output_type": "stream",
     "text": [
      "this is a meth of xyz class \n"
     ]
    }
   ],
   "source": [
    "n.test()"
   ]
  },
  {
   "cell_type": "code",
   "execution_count": 32,
   "metadata": {},
   "outputs": [],
   "source": [
    "class xyz:\n",
    "    def __init__(self, a,b,c) :\n",
    "        self.a= a \n",
    "        self.b= b \n",
    "        self.c= c \n",
    "        \n",
    "                                       # multilevel inheritance\n",
    "    def test(self) : \n",
    "        print(\"this is a meth of xyz class \")\n",
    "    \n",
    "class xyz1(xyz):\n",
    "        \n",
    "    def test1(self) : \n",
    "        print(\"this is a meth form class xyz1\")\n",
    "        \n",
    "class xyz2(xyz1) :\n",
    "    def test2(self) :\n",
    "        print(\"this is a meth form class 2\")\n",
    "\n",
    "class xyz3(xyz2):\n",
    "    def test3(self) : \n",
    "        print(\"this is my meth form class xyz3\")\n",
    "        "
   ]
  },
  {
   "cell_type": "code",
   "execution_count": 33,
   "metadata": {},
   "outputs": [],
   "source": [
    "v = xyz2(5,6,7)"
   ]
  },
  {
   "cell_type": "code",
   "execution_count": 34,
   "metadata": {},
   "outputs": [],
   "source": [
    "m = xyz3(4,5,6)"
   ]
  },
  {
   "cell_type": "code",
   "execution_count": null,
   "metadata": {},
   "outputs": [],
   "source": [
    "q1 - create a file class for reading data from respective file with a method name read and write   . \n",
    "q2  - try to inherit read and write method form parent class to child class to perform read and write operation "
   ]
  },
  {
   "cell_type": "code",
   "execution_count": null,
   "metadata": {},
   "outputs": [],
   "source": [
    "import logging \n",
    "\n",
    "logging.basicConfig(filename=\"list.log\",level=logging.DEBUG,format=\"%(asctime)s %(levelname)s %(message)s\",filemode='w')\n",
    "\n",
    "\n",
    "class File:\n",
    "    def __init__(self,filename):\n",
    "        logging.info(\"Creating file instance varibale\")\n",
    "        self.file = filename\n",
    "\n",
    "    def read(self):\n",
    "        logging.info(\"executing read method\")\n",
    "        try:\n",
    "            with open(f\"{self.file}.txt\",'r') as f:\n",
    "                data = f.read()\n",
    "                return data\n",
    "        except FileNotFoundError as e:\n",
    "            logging.error(\"Error occured while opening the file \")\n",
    "            logging.exception(f\"Error is {e}\")\n",
    "\n",
    "    def write(self,data):\n",
    "        logging.info(\"executing write method\")\n",
    "        try:\n",
    "            with open(f\"{self.file}.txt\",'w') as f:\n",
    "                data = f.write(data)\n",
    "        except FileNotFoundError as e:\n",
    "            logging.error(\"Something is going wrong\")\n",
    "            \n",
    "obj = File(\"abc\")\n"
   ]
  },
  {
   "cell_type": "code",
   "execution_count": 70,
   "metadata": {},
   "outputs": [
    {
     "name": "stdout",
     "output_type": "stream",
     "text": [
      "Inserted Lines .......\n"
     ]
    }
   ],
   "source": [
    "class readFile:\n",
    "    def __init__(self,fileObj, lines):\n",
    "        self.file = fileObj\n",
    "        self.lines = lines\n",
    "    def readFile(self):\n",
    "        file2=open(self.file,'r')\n",
    "        line=file2.readline()\n",
    "        while(line!=\"\"):\n",
    "            print(line)\n",
    "            line=file2.readline()\n",
    "\n",
    "    def writeFile(self):\n",
    "        content_write = open(self.file,'w')\n",
    "        content_write.writelines(lines)\n",
    "        content_write.close()\n",
    "        \n",
    "class readFile1(readFile):\n",
    "    def readFile1(self):\n",
    "        print(\"inheritance of readFile class\")\n",
    "\n",
    "file1 = r'test1.txt'\n",
    "lines = 'Inserted Lines .......'\n",
    "\n",
    "read_write = readFile1(file1,lines)\n",
    "read_write.writeFile()\n",
    "read_write.readFile()\n"
   ]
  },
  {
   "cell_type": "code",
   "execution_count": null,
   "metadata": {},
   "outputs": [],
   "source": [
    "class fileopeartion:\n",
    "    def __init__(self,filepath):\n",
    "        self.filepath = filepath\n",
    "    def read(self):\n",
    "        try:\n",
    "            f = open(self.filepath,\"r+\")\n",
    "            print(f.read())\n",
    "        except Exception as e:\n",
    "            print(e)\n",
    "        f.close()\n",
    "    def write(self,writings=\"\"):\n",
    "        try:\n",
    "            f = open(self.filepath,\"a\")\n",
    "        except Exception as e:\n",
    "            print(e)\n",
    "        f.write(writings)\n",
    "        f.close()\n",
    "class child(fileopeartion):\n",
    "    pass\n"
   ]
  },
  {
   "cell_type": "code",
   "execution_count": null,
   "metadata": {},
   "outputs": [],
   "source": [
    "class file_read(object):\n",
    "    def __init__(self,filename) -> None:\n",
    "        self.file = filename\n",
    "        \n",
    "class read(file_read):\n",
    "    def read(self):\n",
    "        try : \n",
    "            open_file = open(self.file, \"r\")\n",
    "            self.read_file = open_file.read()\n",
    "            open_file.close()\n",
    "            return self.read_file\n",
    "        except Exception as e :\n",
    "            return e \n",
    "    \n",
    "class write(file_read) :\n",
    "    def write(self,*args):\n",
    "        try : \n",
    "            open_file = open(self.file, \"w\")\n",
    "            for ele in args:\n",
    "                open_file.write(ele)\n",
    "            return True\n",
    "        except Exception as e :\n",
    "            return e\n"
   ]
  },
  {
   "cell_type": "code",
   "execution_count": null,
   "metadata": {},
   "outputs": [],
   "source": [
    "class filetask:\n",
    "    def __init__(self, filename,filetype):\n",
    "        self.filename=filename\n",
    "        self.filetype=filetype\n",
    "        \n",
    "    def file_write(self):\n",
    "        f=open(self.filename,'w')\n",
    "        f.write('this is myc class task')\n",
    "        f.close()\n",
    "        \n",
    "    def file_read(self):\n",
    "        f=open(self.filename,'r')\n",
    "        print(f.read())\n",
    "        f.close()\n",
    "            \n",
    "class child(filetask):\n",
    "    pass\n",
    "     \n",
    "test1=filetask('testingclass','.txt') \n",
    "test2=child('testingchild','.txt')\n"
   ]
  },
  {
   "cell_type": "markdown",
   "metadata": {},
   "source": [
    "# ENCAPSULATION\n",
    "## Public private and protected"
   ]
  },
  {
   "cell_type": "code",
   "execution_count": 74,
   "metadata": {},
   "outputs": [],
   "source": [
    "class test : \n",
    "    def __init__(self , a,b,c) :\n",
    "        self.a = a \n",
    "        self.b = b \n",
    "        self.c = c \n",
    "        \n",
    "class test1(test) :\n",
    "    pass\n",
    "u = test(4,5,6)"
   ]
  },
  {
   "cell_type": "code",
   "execution_count": 75,
   "metadata": {},
   "outputs": [],
   "source": [
    "v = test1(3,4,5)"
   ]
  },
  {
   "cell_type": "code",
   "execution_count": 3,
   "metadata": {},
   "outputs": [],
   "source": [
    "class test : \n",
    "    def __init__(self ) :\n",
    "        self.__a = 4                 # _a is protected variable( single \"_\")\n",
    "\n",
    "        \n",
    "class test1(test) :\n",
    "    def __init__(self): \n",
    "        self.__a = 7\n",
    "\n",
    "\n",
    "u = test()"
   ]
  },
  {
   "cell_type": "code",
   "execution_count": 108,
   "metadata": {},
   "outputs": [
    {
     "ename": "AttributeError",
     "evalue": "'test' object has no attribute '__a'",
     "output_type": "error",
     "traceback": [
      "\u001b[1;31m---------------------------------------------------------------------------\u001b[0m",
      "\u001b[1;31mAttributeError\u001b[0m                            Traceback (most recent call last)",
      "\u001b[1;32m<ipython-input-108-45f5c7f66ea7>\u001b[0m in \u001b[0;36m<module>\u001b[1;34m\u001b[0m\n\u001b[1;32m----> 1\u001b[1;33m \u001b[0mu\u001b[0m\u001b[1;33m.\u001b[0m\u001b[0m__a\u001b[0m\u001b[1;33m\u001b[0m\u001b[1;33m\u001b[0m\u001b[0m\n\u001b[0m",
      "\u001b[1;31mAttributeError\u001b[0m: 'test' object has no attribute '__a'"
     ]
    }
   ],
   "source": [
    "u.__a"
   ]
  },
  {
   "cell_type": "code",
   "execution_count": 109,
   "metadata": {},
   "outputs": [],
   "source": [
    "v = test1()"
   ]
  },
  {
   "cell_type": "code",
   "execution_count": 110,
   "metadata": {},
   "outputs": [
    {
     "ename": "AttributeError",
     "evalue": "'test1' object has no attribute '__a'",
     "output_type": "error",
     "traceback": [
      "\u001b[1;31m---------------------------------------------------------------------------\u001b[0m",
      "\u001b[1;31mAttributeError\u001b[0m                            Traceback (most recent call last)",
      "\u001b[1;32m<ipython-input-110-7aed92cddc9e>\u001b[0m in \u001b[0;36m<module>\u001b[1;34m\u001b[0m\n\u001b[1;32m----> 1\u001b[1;33m \u001b[0mv\u001b[0m\u001b[1;33m.\u001b[0m\u001b[0m__a\u001b[0m\u001b[1;33m\u001b[0m\u001b[1;33m\u001b[0m\u001b[0m\n\u001b[0m",
      "\u001b[1;31mAttributeError\u001b[0m: 'test1' object has no attribute '__a'"
     ]
    }
   ],
   "source": [
    "v.__a"
   ]
  },
  {
   "cell_type": "code",
   "execution_count": 39,
   "metadata": {},
   "outputs": [],
   "source": [
    "class test:\n",
    "    def __init__(self,a,b,c,h):\n",
    "        self._a = a    # protected\n",
    "        self.__b= b    # private\n",
    "        self.c = c     # public\n",
    "        self.h = h\n",
    "    \n",
    "class test1(test) :\n",
    "    pass\n",
    "    \n",
    "v = test(4,5,6,8)"
   ]
  },
  {
   "cell_type": "code",
   "execution_count": 42,
   "metadata": {},
   "outputs": [
    {
     "data": {
      "text/plain": [
       "6"
      ]
     },
     "execution_count": 42,
     "metadata": {},
     "output_type": "execute_result"
    }
   ],
   "source": [
    "v.c               # public       other than h or c we can acces values, unless we see the code"
   ]
  },
  {
   "cell_type": "code",
   "execution_count": 38,
   "metadata": {},
   "outputs": [
    {
     "data": {
      "text/plain": [
       "5"
      ]
     },
     "execution_count": 38,
     "metadata": {},
     "output_type": "execute_result"
    }
   ],
   "source": [
    "v._test__b       # private        # private variable can only be accessed using _classname__"
   ]
  },
  {
   "cell_type": "code",
   "execution_count": 36,
   "metadata": {},
   "outputs": [
    {
     "data": {
      "text/plain": [
       "4"
      ]
     },
     "execution_count": 36,
     "metadata": {},
     "output_type": "execute_result"
    }
   ],
   "source": [
    "u._test__b        # private             # child can also access using _classname__"
   ]
  },
  {
   "cell_type": "code",
   "execution_count": 21,
   "metadata": {},
   "outputs": [
    {
     "data": {
      "text/plain": [
       "4"
      ]
     },
     "execution_count": 21,
     "metadata": {},
     "output_type": "execute_result"
    }
   ],
   "source": [
    "v._a             # protected"
   ]
  },
  {
   "cell_type": "code",
   "execution_count": 22,
   "metadata": {},
   "outputs": [
    {
     "data": {
      "text/plain": [
       "6"
      ]
     },
     "execution_count": 22,
     "metadata": {},
     "output_type": "execute_result"
    }
   ],
   "source": [
    "v.c"
   ]
  },
  {
   "cell_type": "code",
   "execution_count": 23,
   "metadata": {},
   "outputs": [],
   "source": [
    "u = test1(3,4,7)"
   ]
  },
  {
   "cell_type": "code",
   "execution_count": 24,
   "metadata": {},
   "outputs": [
    {
     "data": {
      "text/plain": [
       "7"
      ]
     },
     "execution_count": 24,
     "metadata": {},
     "output_type": "execute_result"
    }
   ],
   "source": [
    "u.c"
   ]
  },
  {
   "cell_type": "code",
   "execution_count": 25,
   "metadata": {},
   "outputs": [
    {
     "data": {
      "text/plain": [
       "3"
      ]
     },
     "execution_count": 25,
     "metadata": {},
     "output_type": "execute_result"
    }
   ],
   "source": [
    "u._a"
   ]
  },
  {
   "cell_type": "code",
   "execution_count": 26,
   "metadata": {},
   "outputs": [
    {
     "ename": "AttributeError",
     "evalue": "'test1' object has no attribute '_test1__b'",
     "output_type": "error",
     "traceback": [
      "\u001b[1;31m---------------------------------------------------------------------------\u001b[0m",
      "\u001b[1;31mAttributeError\u001b[0m                            Traceback (most recent call last)",
      "\u001b[1;32m~\\AppData\\Local\\Temp\\ipykernel_12092\\4083783106.py\u001b[0m in \u001b[0;36m<module>\u001b[1;34m\u001b[0m\n\u001b[1;32m----> 1\u001b[1;33m \u001b[0mu\u001b[0m\u001b[1;33m.\u001b[0m\u001b[0m_test1__b\u001b[0m\u001b[1;33m\u001b[0m\u001b[1;33m\u001b[0m\u001b[0m\n\u001b[0m",
      "\u001b[1;31mAttributeError\u001b[0m: 'test1' object has no attribute '_test1__b'"
     ]
    }
   ],
   "source": [
    "u._test1__b"
   ]
  },
  {
   "cell_type": "code",
   "execution_count": 99,
   "metadata": {},
   "outputs": [],
   "source": [
    "class bonousclaculator:\n",
    "    def __init__(self, empid , emprating) :\n",
    "        self.empid = empid\n",
    "        self.emprating = emprating\n",
    "        self._empmail = \"fdsfsfssf@gmail.com\"\n",
    "        self.__bonusforratingA = \"70%\"\n",
    "        self.__bonusforraringB = \"60%\"\n",
    "        self.__bonusforratinC = \"40%\"\n",
    "    \n",
    "    def bonuscalculator(self) :\n",
    "        if self.emprating == \"A\":\n",
    "            bonus = self.__bonusforratingA\n",
    "            return bonus\n",
    "        elif self.emprating == \"B\" :\n",
    "            bonus = self.__bonusforraringB\n",
    "            return bonus\n",
    "        else :\n",
    "            bonus = self.__bonusforratinC\n",
    "            return bonus"
   ]
  },
  {
   "cell_type": "code",
   "execution_count": 100,
   "metadata": {},
   "outputs": [],
   "source": [
    "emp1 = bonousclaculator(101 , \"A\")\n",
    "emp2 = bonousclaculator(102 , \"B\")\n",
    "emp3 = bonousclaculator(103, \"C\")"
   ]
  },
  {
   "cell_type": "code",
   "execution_count": 101,
   "metadata": {},
   "outputs": [
    {
     "data": {
      "text/plain": [
       "'70%'"
      ]
     },
     "execution_count": 101,
     "metadata": {},
     "output_type": "execute_result"
    }
   ],
   "source": [
    "emp1.bonuscalculator()"
   ]
  },
  {
   "cell_type": "code",
   "execution_count": 102,
   "metadata": {},
   "outputs": [
    {
     "data": {
      "text/plain": [
       "'60%'"
      ]
     },
     "execution_count": 102,
     "metadata": {},
     "output_type": "execute_result"
    }
   ],
   "source": [
    "emp2.bonuscalculator()"
   ]
  },
  {
   "cell_type": "code",
   "execution_count": 103,
   "metadata": {},
   "outputs": [
    {
     "data": {
      "text/plain": [
       "'40%'"
      ]
     },
     "execution_count": 103,
     "metadata": {},
     "output_type": "execute_result"
    }
   ],
   "source": [
    "emp3.bonuscalculator()"
   ]
  },
  {
   "cell_type": "code",
   "execution_count": 104,
   "metadata": {},
   "outputs": [],
   "source": [
    "emp1.empid = 104"
   ]
  },
  {
   "cell_type": "code",
   "execution_count": 105,
   "metadata": {},
   "outputs": [
    {
     "data": {
      "text/plain": [
       "104"
      ]
     },
     "execution_count": 105,
     "metadata": {},
     "output_type": "execute_result"
    }
   ],
   "source": [
    "emp1.empid"
   ]
  },
  {
   "cell_type": "code",
   "execution_count": 106,
   "metadata": {},
   "outputs": [],
   "source": [
    "emp1.emprating= \"B\""
   ]
  },
  {
   "cell_type": "code",
   "execution_count": 107,
   "metadata": {},
   "outputs": [
    {
     "data": {
      "text/plain": [
       "'60%'"
      ]
     },
     "execution_count": 107,
     "metadata": {},
     "output_type": "execute_result"
    }
   ],
   "source": [
    "emp1.bonuscalculator()"
   ]
  },
  {
   "cell_type": "code",
   "execution_count": 108,
   "metadata": {},
   "outputs": [],
   "source": [
    "emp1.__bonusforraringB = \"90%\"       #  private varibale cant be changed"
   ]
  },
  {
   "cell_type": "code",
   "execution_count": 109,
   "metadata": {},
   "outputs": [
    {
     "data": {
      "text/plain": [
       "'60%'"
      ]
     },
     "execution_count": 109,
     "metadata": {},
     "output_type": "execute_result"
    }
   ],
   "source": [
    "emp1.bonuscalculator()"
   ]
  },
  {
   "cell_type": "code",
   "execution_count": 110,
   "metadata": {},
   "outputs": [
    {
     "data": {
      "text/plain": [
       "'60%'"
      ]
     },
     "execution_count": 110,
     "metadata": {},
     "output_type": "execute_result"
    }
   ],
   "source": [
    "emp2.bonuscalculator()"
   ]
  },
  {
   "cell_type": "code",
   "execution_count": 111,
   "metadata": {},
   "outputs": [
    {
     "data": {
      "text/plain": [
       "'60%'"
      ]
     },
     "execution_count": 111,
     "metadata": {},
     "output_type": "execute_result"
    }
   ],
   "source": [
    "emp2.bonuscalculator()"
   ]
  },
  {
   "cell_type": "code",
   "execution_count": 112,
   "metadata": {},
   "outputs": [],
   "source": [
    "emp2.empid = 34543543"
   ]
  },
  {
   "cell_type": "code",
   "execution_count": 113,
   "metadata": {},
   "outputs": [
    {
     "data": {
      "text/plain": [
       "34543543"
      ]
     },
     "execution_count": 113,
     "metadata": {},
     "output_type": "execute_result"
    }
   ],
   "source": [
    "emp2.empid"
   ]
  },
  {
   "cell_type": "code",
   "execution_count": 114,
   "metadata": {},
   "outputs": [],
   "source": [
    "emp2.__bonusforraringB = \"fsadfsafs\""
   ]
  },
  {
   "cell_type": "code",
   "execution_count": 115,
   "metadata": {},
   "outputs": [
    {
     "data": {
      "text/plain": [
       "'60%'"
      ]
     },
     "execution_count": 115,
     "metadata": {},
     "output_type": "execute_result"
    }
   ],
   "source": [
    "emp2._bonousclaculator__bonusforraringB"
   ]
  },
  {
   "cell_type": "code",
   "execution_count": 118,
   "metadata": {},
   "outputs": [],
   "source": [
    "emp2._bonousclaculator__bonusforraringB  = \"435456\"       # private variable can also be changed if we use single _ and\n",
    "                                                          # classname and variable name with __ "
   ]
  },
  {
   "cell_type": "code",
   "execution_count": 166,
   "metadata": {},
   "outputs": [
    {
     "data": {
      "text/plain": [
       "'435456'"
      ]
     },
     "execution_count": 166,
     "metadata": {},
     "output_type": "execute_result"
    }
   ],
   "source": [
    "emp2._bonousclaculator__bonusforraringB "
   ]
  },
  {
   "cell_type": "code",
   "execution_count": 185,
   "metadata": {},
   "outputs": [
    {
     "data": {
      "text/plain": [
       "'fdsfsfssf@gmail.com'"
      ]
     },
     "execution_count": 185,
     "metadata": {},
     "output_type": "execute_result"
    }
   ],
   "source": [
    "emp1._empmail "
   ]
  },
  {
   "cell_type": "code",
   "execution_count": 119,
   "metadata": {},
   "outputs": [],
   "source": [
    "emp1._empmail  = \"sudhanshu@gmail.com\"       # protected can be changed like this"
   ]
  },
  {
   "cell_type": "code",
   "execution_count": 120,
   "metadata": {},
   "outputs": [
    {
     "data": {
      "text/plain": [
       "'sudhanshu@gmail.com'"
      ]
     },
     "execution_count": 120,
     "metadata": {},
     "output_type": "execute_result"
    }
   ],
   "source": [
    "emp1._empmail"
   ]
  },
  {
   "cell_type": "code",
   "execution_count": 189,
   "metadata": {},
   "outputs": [],
   "source": [
    "class xyz():\n",
    "    def __init__(self,a,b,c):\n",
    "        self.a=a\n",
    "        self.b=b\n",
    "        self.c=c\n",
    "    def test (self):\n",
    "        print (\"machine\")\n",
    "\n",
    "class xyz1(xyz):\n",
    "    def __init__(self,p,q,r):\n",
    "        self.p=p\n",
    "        self.q=q\n",
    "        self.r=r\n",
    "    def test1(self):\n",
    "        print (\"learning\")\n",
    "class xyz2(xyz1):\n",
    "    def test2(self):\n",
    "        print (\"ineuron\")\n"
   ]
  },
  {
   "cell_type": "code",
   "execution_count": 190,
   "metadata": {},
   "outputs": [],
   "source": [
    "v  = xyz2(3,4,5)"
   ]
  },
  {
   "cell_type": "code",
   "execution_count": null,
   "metadata": {},
   "outputs": [],
   "source": [
    "v.test"
   ]
  },
  {
   "cell_type": "code",
   "execution_count": 195,
   "metadata": {},
   "outputs": [
    {
     "name": "stdout",
     "output_type": "stream",
     "text": [
      "Enter an integer4564\n",
      "Please enter a valid input, an integer\n",
      "Enter an integer456\n",
      "Please enter a valid input, an integer\n",
      "Enter an integer435\n",
      "435  is a prime number\n"
     ]
    }
   ],
   "source": [
    "def checkPrime():\n",
    "    ''' Checks if a number is Prime. Keeps on asking\n",
    "        for an input in correct form, >1 & an integer\n",
    "        '''\n",
    "    while True:\n",
    "        try:\n",
    "            num=int(input('Enter an integer'))\n",
    "            if num>1:\n",
    "                for i in range(2, num):\n",
    "                    \n",
    "                    if (num % i)==0:\n",
    "                        pss\n",
    "                        #print(num, ' is a not prime number')\n",
    "                        #break\n",
    "                \n",
    "                    else:\n",
    "                        print(num, ' is a prime number')\n",
    "                        break\n",
    "                        \n",
    "                break       \n",
    "                        \n",
    "                \n",
    "            else:\n",
    "                print('Please enter a number >1')\n",
    "        except:\n",
    "            print('Please enter a valid input, an integer')\n",
    "checkPrime()\n"
   ]
  },
  {
   "cell_type": "code",
   "execution_count": 196,
   "metadata": {},
   "outputs": [],
   "source": [
    "def largest_arr(*args):\n",
    "    lagest_list_iter=0\n",
    "    lagest_list=0\n",
    "    l=[]\n",
    "    for i in args:\n",
    "        if type(i)==list or type(i)==tuple or type(i)==set:\n",
    "            for j in i:\n",
    "                l.append(j)\n",
    "                lagest_list_iter=max(l)\n",
    "            return lagest_list_iter    \n",
    "                \n",
    "        else:\n",
    "            for i in args:\n",
    "                l.append(i)\n",
    "                lagest_list=max(l)\n",
    "            return lagest_list\n"
   ]
  },
  {
   "cell_type": "code",
   "execution_count": 197,
   "metadata": {},
   "outputs": [
    {
     "ename": "TypeError",
     "evalue": "'int' object is not iterable",
     "output_type": "error",
     "traceback": [
      "\u001b[1;31m---------------------------------------------------------------------------\u001b[0m",
      "\u001b[1;31mTypeError\u001b[0m                                 Traceback (most recent call last)",
      "\u001b[1;32m<ipython-input-197-040dd2cda7dc>\u001b[0m in \u001b[0;36m<module>\u001b[1;34m\u001b[0m\n\u001b[0;32m      1\u001b[0m \u001b[0ma\u001b[0m \u001b[1;33m=\u001b[0m \u001b[1;36m50\u001b[0m\u001b[1;33m\u001b[0m\u001b[1;33m\u001b[0m\u001b[0m\n\u001b[1;32m----> 2\u001b[1;33m \u001b[0miter\u001b[0m\u001b[1;33m(\u001b[0m\u001b[0ma\u001b[0m\u001b[1;33m)\u001b[0m\u001b[1;33m\u001b[0m\u001b[1;33m\u001b[0m\u001b[0m\n\u001b[0m",
      "\u001b[1;31mTypeError\u001b[0m: 'int' object is not iterable"
     ]
    }
   ],
   "source": [
    "a = 50\n",
    "iter(a)"
   ]
  },
  {
   "cell_type": "code",
   "execution_count": 198,
   "metadata": {},
   "outputs": [],
   "source": [
    "b = [4,5,6]"
   ]
  },
  {
   "cell_type": "code",
   "execution_count": 200,
   "metadata": {},
   "outputs": [
    {
     "data": {
      "text/plain": [
       "list_iterator"
      ]
     },
     "execution_count": 200,
     "metadata": {},
     "output_type": "execute_result"
    }
   ],
   "source": [
    "type(iter(b))"
   ]
  },
  {
   "cell_type": "code",
   "execution_count": 204,
   "metadata": {},
   "outputs": [
    {
     "name": "stdout",
     "output_type": "stream",
     "text": [
      "do someting \n"
     ]
    }
   ],
   "source": [
    "if list in [list, tuple, set]:\n",
    "    print(\"do someting \")"
   ]
  },
  {
   "cell_type": "code",
   "execution_count": 208,
   "metadata": {},
   "outputs": [],
   "source": [
    "import array as arr"
   ]
  },
  {
   "cell_type": "code",
   "execution_count": 223,
   "metadata": {},
   "outputs": [
    {
     "data": {
      "text/plain": [
       "array('f', [1.0, 2.0, 3.0, 4.0])"
      ]
     },
     "execution_count": 223,
     "metadata": {},
     "output_type": "execute_result"
    }
   ],
   "source": [
    "a = arr.array('f' , [1,2,3,4])\n",
    "a"
   ]
  },
  {
   "cell_type": "code",
   "execution_count": 213,
   "metadata": {},
   "outputs": [
    {
     "data": {
      "text/plain": [
       "array([1, 2, 3, 4])"
      ]
     },
     "execution_count": 213,
     "metadata": {},
     "output_type": "execute_result"
    }
   ],
   "source": [
    "import numpy as np\n",
    "np.array([1,2,3,4])"
   ]
  },
  {
   "cell_type": "code",
   "execution_count": 214,
   "metadata": {},
   "outputs": [
    {
     "data": {
      "text/plain": [
       "array([ 3,  5, 67, 67])"
      ]
     },
     "execution_count": 214,
     "metadata": {},
     "output_type": "execute_result"
    }
   ],
   "source": [
    "np.asanyarray([3,5,67,67])"
   ]
  },
  {
   "cell_type": "code",
   "execution_count": 215,
   "metadata": {},
   "outputs": [
    {
     "data": {
      "text/plain": [
       "array([  34, 6565,   76,    7,    6])"
      ]
     },
     "execution_count": 215,
     "metadata": {},
     "output_type": "execute_result"
    }
   ],
   "source": [
    "np.asanyarray([34,6565,76,7,6])"
   ]
  },
  {
   "cell_type": "code",
   "execution_count": 219,
   "metadata": {},
   "outputs": [
    {
     "name": "stdout",
     "output_type": "stream",
     "text": [
      "1.0\n",
      "2.0\n",
      "3.0\n",
      "4.0\n"
     ]
    }
   ],
   "source": [
    "for i in a:\n",
    "    print(i)"
   ]
  },
  {
   "cell_type": "code",
   "execution_count": 224,
   "metadata": {},
   "outputs": [
    {
     "data": {
      "text/plain": [
       "435"
      ]
     },
     "execution_count": 224,
     "metadata": {},
     "output_type": "execute_result"
    }
   ],
   "source": [
    "class parent:\n",
    "    def __init__(self, p, q, r):\n",
    "        self.p = p\n",
    "        self._q = q\n",
    "        self.__r = r\n",
    "        \n",
    "class child(parent):\n",
    "    pass\n",
    "\n",
    "c1 = child(4,5,6)\n",
    "\n",
    "# How is  this possible??? \n",
    "c1.z = 435\n",
    "c1.z"
   ]
  },
  {
   "cell_type": "code",
   "execution_count": 225,
   "metadata": {},
   "outputs": [],
   "source": [
    "a = 10 "
   ]
  },
  {
   "cell_type": "code",
   "execution_count": 226,
   "metadata": {},
   "outputs": [],
   "source": [
    "c2 = child(4,5,6)"
   ]
  },
  {
   "cell_type": "code",
   "execution_count": 227,
   "metadata": {},
   "outputs": [
    {
     "ename": "AttributeError",
     "evalue": "'child' object has no attribute 'z'",
     "output_type": "error",
     "traceback": [
      "\u001b[1;31m---------------------------------------------------------------------------\u001b[0m",
      "\u001b[1;31mAttributeError\u001b[0m                            Traceback (most recent call last)",
      "\u001b[1;32m<ipython-input-227-60f30b911812>\u001b[0m in \u001b[0;36m<module>\u001b[1;34m\u001b[0m\n\u001b[1;32m----> 1\u001b[1;33m \u001b[0mc2\u001b[0m\u001b[1;33m.\u001b[0m\u001b[0mz\u001b[0m\u001b[1;33m\u001b[0m\u001b[1;33m\u001b[0m\u001b[0m\n\u001b[0m",
      "\u001b[1;31mAttributeError\u001b[0m: 'child' object has no attribute 'z'"
     ]
    }
   ],
   "source": [
    "c2.z"
   ]
  },
  {
   "cell_type": "code",
   "execution_count": 233,
   "metadata": {},
   "outputs": [
    {
     "data": {
      "text/plain": [
       "'60%'"
      ]
     },
     "execution_count": 233,
     "metadata": {},
     "output_type": "execute_result"
    }
   ],
   "source": [
    "class bonuscalculator:\n",
    "    def __init__(self,empid, emprating):\n",
    "        self.empid = empid\n",
    "        self.emprating = emprating\n",
    "        self.__bonusforratingA = \"70%\"\n",
    "        self.__bonusforratingB = \"60%\"\n",
    "        self.__bonusforratingC = \"40%\"\n",
    "\n",
    "    def bonuscalc(self):\n",
    "        if self.emprating == \"A\":\n",
    "            bonus = self.__bonusforratingA\n",
    "            return bonus\n",
    "        elif self.emprating == \"B\":\n",
    "            bonus = self.__bonusforratingB\n",
    "            return bonus\n",
    "        else : \n",
    "            bonus = self.__bonusforratingC\n",
    "            return bonus ,self.empid\n",
    "\n",
    "emp1 = bonuscalculator(101, \"A\")\n",
    "emp2 = bonuscalculator(102, \"B\")\n",
    "emp3 = bonuscalculator(103, \"C\")\n",
    "emp1.bonuscalc()\n",
    "emp2.bonuscalc()\n",
    "\n"
   ]
  },
  {
   "cell_type": "code",
   "execution_count": 234,
   "metadata": {},
   "outputs": [
    {
     "data": {
      "text/plain": [
       "('40%', 103)"
      ]
     },
     "execution_count": 234,
     "metadata": {},
     "output_type": "execute_result"
    }
   ],
   "source": [
    "emp3.bonuscalc()"
   ]
  },
  {
   "cell_type": "code",
   "execution_count": 236,
   "metadata": {},
   "outputs": [
    {
     "data": {
      "text/plain": [
       "('60%', 102)"
      ]
     },
     "execution_count": 236,
     "metadata": {},
     "output_type": "execute_result"
    }
   ],
   "source": [
    "class bonuscalculator:\n",
    "    def __init__(self,empid,emprating):\n",
    "        self.empid = empid\n",
    "        self.emprating = emprating\n",
    "        self._empmail = \"abcd@gmail.com\"\n",
    "        self.__bonusforratingA = \"70%\"\n",
    "        self.__bonusforratingB = \"60%\"\n",
    "        self.__bonusforratingC = \"40%\"\n",
    "        \n",
    "    def bonuscalculator(self):\n",
    "        if self.emprating == \"A\":\n",
    "            bonus = self.__bonusforratingA\n",
    "            return bonus ,self.empid\n",
    "        elif self.emprating == \"B\":\n",
    "            bonus = self.__bonusforratingB\n",
    "            return bonus,self.empid\n",
    "        else:\n",
    "            bonus = self.__bonusforratingC\n",
    "            return bonus,self.empid\n",
    "emp1 = bonuscalculator(101,\"A\")\n",
    "emp2 = bonuscalculator(102,\"B\")\n",
    "emp3 = bonuscalculator(103,\"C\")\n",
    "emp1.bonuscalculator()\n",
    "emp2.bonuscalculator()\n",
    "\n"
   ]
  },
  {
   "cell_type": "code",
   "execution_count": 243,
   "metadata": {},
   "outputs": [
    {
     "data": {
      "text/plain": [
       "2"
      ]
     },
     "execution_count": 243,
     "metadata": {},
     "output_type": "execute_result"
    }
   ],
   "source": [
    "class Xyz:\n",
    "    objCount = 0\n",
    "    def __init__(self, a, b, c):\n",
    "        self.a = a\n",
    "        self.b = b\n",
    "        self.c = c\n",
    "        Xyz.objCount += 1\n",
    "        \n",
    "    def test(self):\n",
    "        print(\"Inside test method\")\n",
    "        \n",
    "    def test1(self):\n",
    "        print(\"Inside the test1 method\")\n",
    "        \n",
    "    def test2(self):\n",
    "        print(\"Inside the test2 method\")\n",
    "\n",
    "p = Xyz(1,2,3)\n",
    "p1 = Xyz(2,3,4)\n",
    "p1.objCount"
   ]
  },
  {
   "cell_type": "code",
   "execution_count": 244,
   "metadata": {},
   "outputs": [],
   "source": [
    "p2 = Xyz(2,3,4)"
   ]
  },
  {
   "cell_type": "code",
   "execution_count": 242,
   "metadata": {},
   "outputs": [
    {
     "data": {
      "text/plain": [
       "3"
      ]
     },
     "execution_count": 242,
     "metadata": {},
     "output_type": "execute_result"
    }
   ],
   "source": [
    "p1.objCount\n"
   ]
  },
  {
   "cell_type": "code",
   "execution_count": null,
   "metadata": {},
   "outputs": [],
   "source": []
  }
 ],
 "metadata": {
  "kernelspec": {
   "display_name": "Python 3 (ipykernel)",
   "language": "python",
   "name": "python3"
  },
  "language_info": {
   "codemirror_mode": {
    "name": "ipython",
    "version": 3
   },
   "file_extension": ".py",
   "mimetype": "text/x-python",
   "name": "python",
   "nbconvert_exporter": "python",
   "pygments_lexer": "ipython3",
   "version": "3.9.13"
  }
 },
 "nbformat": 4,
 "nbformat_minor": 4
}
