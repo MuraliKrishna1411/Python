{
 "cells": [
  {
   "cell_type": "code",
   "execution_count": 1,
   "metadata": {},
   "outputs": [
    {
     "name": "stdout",
     "output_type": "stream",
     "text": [
      " Volume in drive C has no label.\n",
      " Volume Serial Number is FA55-E833\n",
      "\n",
      " Directory of C:\\Users\\win10\\jupyter\\Complete Python Module-20210227T092441Z-001\\Complete Python Module\\8.Iterators Generators\n",
      "\n",
      "01/09/2022  12:51 PM    <DIR>          .\n",
      "01/09/2022  12:51 PM    <DIR>          ..\n",
      "01/09/2022  12:51 PM    <DIR>          .ipynb_checkpoints\n",
      "07/07/2021  08:02 PM            16,152 8.Iterators and Generators.ipynb\n",
      "01/09/2022  12:49 PM             3,218 File op.ipynb\n",
      "01/09/2022  12:48 PM             3,036 google.txt\n",
      "12/19/2021  03:18 PM            48,388 if else , for loop.ipynb\n",
      "04/11/2021  06:07 AM    <DIR>          imgs\n",
      "01/09/2022  12:16 PM               372 test.txt\n",
      "01/09/2022  12:49 PM               228 test1.txt\n",
      "01/09/2022  12:01 PM                50 test2.txt\n",
      "01/09/2022  12:39 PM        21,685,761 Untitled.ipynb\n",
      "01/09/2022  12:51 PM                72 Untitled1.ipynb\n",
      "               9 File(s)     21,757,277 bytes\n",
      "               4 Dir(s)  471,107,788,800 bytes free\n"
     ]
    }
   ],
   "source": [
    "%ls"
   ]
  },
  {
   "cell_type": "code",
   "execution_count": 2,
   "metadata": {},
   "outputs": [
    {
     "data": {
      "text/plain": [
       "'test1.txt'"
      ]
     },
     "execution_count": 2,
     "metadata": {},
     "output_type": "execute_result"
    }
   ],
   "source": [
    "f = open('test1.txt' , \"r+\")\n",
    "f.name"
   ]
  },
  {
   "cell_type": "code",
   "execution_count": 3,
   "metadata": {},
   "outputs": [],
   "source": [
    "l = [\"this is my line one \" , \"this is my line 2\" , \" this is my line 3 \" , \"this is my line 4\"]"
   ]
  },
  {
   "cell_type": "code",
   "execution_count": 4,
   "metadata": {},
   "outputs": [
    {
     "data": {
      "text/plain": [
       "37"
      ]
     },
     "execution_count": 4,
     "metadata": {},
     "output_type": "execute_result"
    }
   ],
   "source": [
    "f.write(\" i can write lines at current cursor \")"
   ]
  },
  {
   "cell_type": "code",
   "execution_count": 5,
   "metadata": {},
   "outputs": [],
   "source": [
    "f.writelines(l)"
   ]
  },
  {
   "cell_type": "code",
   "execution_count": 6,
   "metadata": {},
   "outputs": [],
   "source": [
    "f.close()"
   ]
  },
  {
   "cell_type": "code",
   "execution_count": 34,
   "metadata": {},
   "outputs": [],
   "source": [
    "f.flush()"
   ]
  },
  {
   "cell_type": "code",
   "execution_count": null,
   "metadata": {},
   "outputs": [],
   "source": []
  },
  {
   "cell_type": "code",
   "execution_count": null,
   "metadata": {},
   "outputs": [],
   "source": [
    "f = open('test1.txt' , \"r+\")\n",
    "f.name"
   ]
  },
  {
   "cell_type": "code",
   "execution_count": 7,
   "metadata": {},
   "outputs": [
    {
     "data": {
      "text/plain": [
       "4"
      ]
     },
     "execution_count": 7,
     "metadata": {},
     "output_type": "execute_result"
    }
   ],
   "source": [
    "f = open(\"google.txt\" , \"r+\")\n",
    "f.fileno()"
   ]
  },
  {
   "cell_type": "code",
   "execution_count": 11,
   "metadata": {},
   "outputs": [],
   "source": [
    "f.close()"
   ]
  },
  {
   "cell_type": "code",
   "execution_count": 8,
   "metadata": {},
   "outputs": [
    {
     "name": "stdout",
     "output_type": "stream",
     "text": [
      " Volume in drive C has no label.\n",
      " Volume Serial Number is FA55-E833\n",
      "\n",
      " Directory of C:\\Users\\win10\\jupyter\\Complete Python Module-20210227T092441Z-001\\Complete Python Module\\8.Iterators Generators\n",
      "\n",
      "01/09/2022  12:51 PM    <DIR>          .\n",
      "01/09/2022  12:51 PM    <DIR>          ..\n",
      "01/09/2022  12:51 PM    <DIR>          .ipynb_checkpoints\n",
      "07/07/2021  08:02 PM            16,152 8.Iterators and Generators.ipynb\n",
      "01/09/2022  12:49 PM             3,218 File op.ipynb\n",
      "01/09/2022  12:48 PM             3,036 google.txt\n",
      "12/19/2021  03:18 PM            48,388 if else , for loop.ipynb\n",
      "04/11/2021  06:07 AM    <DIR>          imgs\n",
      "01/09/2022  12:16 PM               372 test.txt\n",
      "01/09/2022  12:51 PM               228 test1.txt\n",
      "01/09/2022  12:01 PM                50 test2.txt\n",
      "01/09/2022  12:39 PM        21,685,761 Untitled.ipynb\n",
      "01/09/2022  12:51 PM                72 Untitled1.ipynb\n",
      "               9 File(s)     21,757,277 bytes\n",
      "               4 Dir(s)  471,108,497,408 bytes free\n"
     ]
    }
   ],
   "source": [
    "%ls"
   ]
  },
  {
   "cell_type": "code",
   "execution_count": 1,
   "metadata": {},
   "outputs": [],
   "source": [
    "import os"
   ]
  },
  {
   "cell_type": "code",
   "execution_count": 2,
   "metadata": {},
   "outputs": [
    {
     "ename": "PermissionError",
     "evalue": "[WinError 32] The process cannot access the file because it is being used by another process: 'google.txt'",
     "output_type": "error",
     "traceback": [
      "\u001b[1;31m---------------------------------------------------------------------------\u001b[0m",
      "\u001b[1;31mPermissionError\u001b[0m                           Traceback (most recent call last)",
      "\u001b[1;32m~\\AppData\\Local\\Temp\\ipykernel_4156\\3093024113.py\u001b[0m in \u001b[0;36m<module>\u001b[1;34m\u001b[0m\n\u001b[1;32m----> 1\u001b[1;33m \u001b[0mos\u001b[0m\u001b[1;33m.\u001b[0m\u001b[0mremove\u001b[0m\u001b[1;33m(\u001b[0m\u001b[1;34m\"google.txt\"\u001b[0m\u001b[1;33m)\u001b[0m\u001b[1;33m\u001b[0m\u001b[1;33m\u001b[0m\u001b[0m\n\u001b[0m",
      "\u001b[1;31mPermissionError\u001b[0m: [WinError 32] The process cannot access the file because it is being used by another process: 'google.txt'"
     ]
    }
   ],
   "source": [
    "os.remove(\"google.txt\")"
   ]
  },
  {
   "cell_type": "code",
   "execution_count": 4,
   "metadata": {},
   "outputs": [
    {
     "name": "stdout",
     "output_type": "stream",
     "text": [
      " Volume in drive C has no label.\n",
      " Volume Serial Number is A836-BC31\n",
      "\n",
      " Directory of C:\\Users\\AMD\\A Python notes by ineuron\n",
      "\n",
      "03/16/2023  10:46 AM    <DIR>          .\n",
      "03/16/2023  10:46 AM    <DIR>          ..\n",
      "03/16/2023  10:44 AM    <DIR>          .ipynb_checkpoints\n",
      "03/16/2023  08:48 AM           125,747 07 Functions_Revision (1).ipynb\n",
      "03/11/2023  12:39 PM           125,747 07 Functions_Revision.ipynb\n",
      "03/09/2023  11:13 AM            62,465 1. Python basic (3).ipynb\n",
      "03/09/2023  11:44 AM            61,008 2. Tuples , set , dict .ipynb\n",
      "03/07/2023  10:31 PM            50,231 3. if else , for loop.ipynb\n",
      "03/08/2023  11:22 AM            24,840 4. for loops while loop.ipynb\n",
      "03/08/2023  03:57 PM            54,492 5. practice problem python basic.ipynb\n",
      "03/12/2023  07:40 PM            31,471 6. Function and holiday task.ipynb\n",
      "03/16/2023  08:42 AM            62,066 7. Function continued.ipynb\n",
      "03/16/2023  10:44 AM         2,579,403 8. iterator generator.ipynb\n",
      "03/16/2023  10:46 AM            14,670 9. file sysetm.ipynb\n",
      "03/12/2023  08:40 PM            10,713 Functions questions.ipynb\n",
      "03/16/2023  10:33 AM             3,080 google.txt\n",
      "03/16/2023  10:16 AM               226 test1.txt\n",
      "03/16/2023  10:16 AM                50 test2.txt\n",
      "03/13/2023  12:44 PM            22,493 Untitled.ipynb\n",
      "03/11/2023  05:39 PM             7,628 Untitled1.ipynb\n",
      "              17 File(s)      3,236,330 bytes\n",
      "               3 Dir(s)  130,766,491,648 bytes free\n"
     ]
    }
   ],
   "source": [
    "%ls"
   ]
  },
  {
   "cell_type": "code",
   "execution_count": 5,
   "metadata": {},
   "outputs": [
    {
     "data": {
      "text/plain": [
       "'C:\\\\Users\\\\AMD\\\\A Python notes by ineuron'"
      ]
     },
     "execution_count": 5,
     "metadata": {},
     "output_type": "execute_result"
    }
   ],
   "source": [
    "os.getcwd()"
   ]
  },
  {
   "cell_type": "code",
   "execution_count": 6,
   "metadata": {},
   "outputs": [
    {
     "data": {
      "text/plain": [
       "'C:\\\\Users\\\\AMD\\\\A Python notes by ineuron'"
      ]
     },
     "execution_count": 6,
     "metadata": {},
     "output_type": "execute_result"
    }
   ],
   "source": [
    "pwd()"
   ]
  },
  {
   "cell_type": "code",
   "execution_count": 7,
   "metadata": {},
   "outputs": [
    {
     "data": {
      "text/plain": [
       "['.ipynb_checkpoints',\n",
       " '07 Functions_Revision (1).ipynb',\n",
       " '07 Functions_Revision.ipynb',\n",
       " '1. Python basic (3).ipynb',\n",
       " '2. Tuples , set , dict .ipynb',\n",
       " '3. if else , for loop.ipynb',\n",
       " '4. for loops while loop.ipynb',\n",
       " '5. practice problem python basic.ipynb',\n",
       " '6. Function and holiday task.ipynb',\n",
       " '7. Function continued.ipynb',\n",
       " '8. iterator generator.ipynb',\n",
       " '9. file sysetm.ipynb',\n",
       " 'Functions questions.ipynb',\n",
       " 'google.txt',\n",
       " 'test1.txt',\n",
       " 'test2.txt',\n",
       " 'Untitled.ipynb',\n",
       " 'Untitled1.ipynb']"
      ]
     },
     "execution_count": 7,
     "metadata": {},
     "output_type": "execute_result"
    }
   ],
   "source": [
    "os.listdir()"
   ]
  },
  {
   "cell_type": "code",
   "execution_count": 18,
   "metadata": {},
   "outputs": [
    {
     "data": {
      "text/plain": [
       "['.ipynb_checkpoints',\n",
       " '1584210047017.docx',\n",
       " '1584210047017.pdf',\n",
       " '22nd Aug Assignment.ipynb',\n",
       " 'ALBERT-20210531T131400Z-001',\n",
       " 'ALBERT-20210531T131400Z-001.zip',\n",
       " 'Anamoly-20210801T140417Z-001',\n",
       " 'Anamoly-20210801T140417Z-001.zip',\n",
       " 'Anamoly-20210801T140418Z-001.zip',\n",
       " 'apache-cassandra-3.11.10-bin',\n",
       " 'apache-cassandra-3.11.10-bin (1).tar',\n",
       " 'apache-cassandra-3.11.10-bin (1).tar.gz',\n",
       " 'Assignment xyz.ipynb',\n",
       " 'BERT-20210531T131352Z-001',\n",
       " 'BERT-20210531T131352Z-001.zip',\n",
       " 'books.csv',\n",
       " 'captchas',\n",
       " 'CarbonUpdatedFile.csv',\n",
       " 'carbon_nanotubes.csv',\n",
       " 'Casandra Streaming.ipynb',\n",
       " 'Cassandra Streming.ipynb',\n",
       " 'Chapter10. ENCODER_DECODER___SEQ2SEQ',\n",
       " 'Chapter7. WORD2VEC_CBOW_SKIPGRAM-20210411T005219Z-001',\n",
       " 'Chapter7. WORD2VEC_CBOW_SKIPGRAM-20210411T005219Z-001.zip',\n",
       " 'Chapter7. WORD2VEC_CBOW_SKIPGRAM-20210417T044431Z-001.zip',\n",
       " 'clustering-20210710T141724Z-001',\n",
       " 'Codes-identification-agences-bancaires-FR-4 (9).pdf',\n",
       " 'Complete Python Module-20210227T092441Z-001',\n",
       " 'DistilBERT-20210531T131340Z-001',\n",
       " 'DistilBERT-20210531T131340Z-001.zip',\n",
       " 'DistilBERT-20210531T131712Z-001.zip',\n",
       " 'DL_Recurrent_Neural_Network 2',\n",
       " 'DL_Recurrent_Neural_Network 2.7z',\n",
       " 'EDA_First_Two',\n",
       " 'final.csv',\n",
       " 'final_internship_list.csv',\n",
       " 'Final_list.csv',\n",
       " 'final_winnner.csv',\n",
       " 'Function and files (1).ipynb',\n",
       " 'Function in pyton  (1) (1).ipynb',\n",
       " 'gift.csv',\n",
       " 'gpt2-20210531T131332Z-001',\n",
       " 'gpt2-20210531T131332Z-001.zip',\n",
       " 'gpt2-20210531T131332Z-002.zip',\n",
       " 'html_data0.csv',\n",
       " 'html_data1.csv',\n",
       " 'html_data2.csv',\n",
       " 'html_data3.csv',\n",
       " 'html_data4.csv',\n",
       " 'html_data5.csv',\n",
       " 'iNeuron July month update (Responses).xlsx',\n",
       " 'INeuron Projects-20210531T132536Z-001.zip',\n",
       " 'iNeuron_july_salary (1).xlsx',\n",
       " 'iNeuron_july_salary.xlsx',\n",
       " 'internship mail id.xlsx',\n",
       " 'Interview questions.ipynb',\n",
       " 'json_dump.csv',\n",
       " 'LinearRegression-master',\n",
       " 'LinearRegression-master (1) (4)',\n",
       " 'LinearRegression-master (1) (4).zip',\n",
       " 'locations.csv',\n",
       " 'ML masters',\n",
       " 'model_all_architecture_ocr.h5',\n",
       " 'model_ocr.json',\n",
       " 'model_weights_ocr.h5',\n",
       " 'mysql assignment .ipynb',\n",
       " 'my_pickle',\n",
       " 'numpy.ipynb',\n",
       " 'ocr model',\n",
       " 'ocr model.7z',\n",
       " 'OCR Poc.ipynb',\n",
       " 'pandas 3 .ipynb',\n",
       " 'pandas and basic function.ipynb',\n",
       " 'pandas data manipulations  2.ipynb',\n",
       " 'Pandas session 1.ipynb',\n",
       " 'PCA (4)',\n",
       " 'players_data.csv',\n",
       " 'plotly .ipynb',\n",
       " 'python basic 1.ipynb',\n",
       " 'python question discussion .ipynb',\n",
       " 'Python-20210417T030818Z-001',\n",
       " 'Rakhi Gift to my sister lastest.xlsx',\n",
       " 'rakhi_gift.xlsx',\n",
       " 'rakhi_new_list.xlsx',\n",
       " 'readpdf.pdf',\n",
       " 'Reinforcement learning-20210117T063045Z-001',\n",
       " 'Reinforcement learning-20210117T063045Z-001.7z',\n",
       " 'Reinforcement learning-20210117T063045Z-001.zip',\n",
       " 'result.csv',\n",
       " 'result1.csv',\n",
       " 'result2.csv',\n",
       " 'result3.csv',\n",
       " 'review scrapper .ipynb',\n",
       " 'RNN & LSTMS and going Deeper-20210411T004412Z-001',\n",
       " 'RNN & LSTMS and going Deeper-20210411T004412Z-001.zip',\n",
       " 'RNN & LSTMS and going Deeper-20210516T010306Z-001',\n",
       " 'rnnlstm (1) (1)',\n",
       " 'RoBERTa_Implementation-20210531T131627Z-001.zip',\n",
       " 'rozerpay',\n",
       " 'sample.parquet',\n",
       " 'Sample_Data_Work-20210531T132923Z-001.zip',\n",
       " 'saurav',\n",
       " 'secure-connect-ineuron.zip',\n",
       " 'sepr_salary.csv',\n",
       " 'Sept_iNeuron_salary.xlsx',\n",
       " 'sept_salary_ineuron.xlsx',\n",
       " 'swagger',\n",
       " 'test.csv',\n",
       " 'test.h5',\n",
       " 'Time series sunspot (1) (2)',\n",
       " 'Time series sunspot (1) (2).7z',\n",
       " 'timeSeries (6)',\n",
       " 'timeSeries (6).zip',\n",
       " 'timeSeries (7)',\n",
       " 'timeSeries (7).zip',\n",
       " 'Tuple , set and dict.ipynb',\n",
       " 'Untitled.ipynb',\n",
       " 'Untitled1.ipynb',\n",
       " 'Untitled10.ipynb',\n",
       " 'Untitled11.ipynb',\n",
       " 'Untitled12.ipynb',\n",
       " 'Untitled13.ipynb',\n",
       " 'Untitled14.ipynb',\n",
       " 'Untitled15.ipynb',\n",
       " 'Untitled16.ipynb',\n",
       " 'Untitled17.ipynb',\n",
       " 'Untitled18.ipynb',\n",
       " 'Untitled19.ipynb',\n",
       " 'Untitled2.ipynb',\n",
       " 'Untitled20.ipynb',\n",
       " 'Untitled21.ipynb',\n",
       " 'Untitled22.ipynb',\n",
       " 'Untitled23.ipynb',\n",
       " 'Untitled24.ipynb',\n",
       " 'Untitled25.ipynb',\n",
       " 'Untitled26.ipynb',\n",
       " 'Untitled27.ipynb',\n",
       " 'Untitled28.ipynb',\n",
       " 'Untitled29.ipynb',\n",
       " 'Untitled3.ipynb',\n",
       " 'Untitled30.ipynb',\n",
       " 'Untitled39.ipynb',\n",
       " 'Untitled4.ipynb',\n",
       " 'Untitled40.ipynb',\n",
       " 'Untitled41.ipynb',\n",
       " 'Untitled5.ipynb',\n",
       " 'Untitled6.ipynb',\n",
       " 'Untitled7.ipynb',\n",
       " 'Untitled8.ipynb',\n",
       " 'Untitled9.ipynb',\n",
       " 'updateddocs-20210516T010855Z-001',\n",
       " 'word embedding']"
      ]
     },
     "execution_count": 18,
     "metadata": {},
     "output_type": "execute_result"
    }
   ],
   "source": [
    "os.listdir(\"C:\\\\Users\\\\win10\\\\jupyter\")"
   ]
  },
  {
   "cell_type": "code",
   "execution_count": 19,
   "metadata": {},
   "outputs": [
    {
     "data": {
      "text/plain": [
       "'C:\\\\Users\\\\win10\\\\jupyter\\\\Complete Python Module-20210227T092441Z-001\\\\Complete Python Module\\\\8.Iterators Generators'"
      ]
     },
     "execution_count": 19,
     "metadata": {},
     "output_type": "execute_result"
    }
   ],
   "source": [
    "os.getcwd()"
   ]
  },
  {
   "cell_type": "code",
   "execution_count": null,
   "metadata": {},
   "outputs": [],
   "source": []
  }
 ],
 "metadata": {
  "kernelspec": {
   "display_name": "Python 3 (ipykernel)",
   "language": "python",
   "name": "python3"
  },
  "language_info": {
   "codemirror_mode": {
    "name": "ipython",
    "version": 3
   },
   "file_extension": ".py",
   "mimetype": "text/x-python",
   "name": "python",
   "nbconvert_exporter": "python",
   "pygments_lexer": "ipython3",
   "version": "3.9.13"
  }
 },
 "nbformat": 4,
 "nbformat_minor": 4
}
