{
 "cells": [
  {
   "cell_type": "code",
   "execution_count": 1,
   "id": "c80467c8",
   "metadata": {},
   "outputs": [],
   "source": [
    "def test():\n",
    "    a=99.99\n",
    "    return a"
   ]
  },
  {
   "cell_type": "code",
   "execution_count": 3,
   "id": "afa295f6",
   "metadata": {},
   "outputs": [
    {
     "data": {
      "text/plain": [
       "101.99"
      ]
     },
     "execution_count": 3,
     "metadata": {},
     "output_type": "execute_result"
    }
   ],
   "source": [
    "test()+2"
   ]
  },
  {
   "cell_type": "code",
   "execution_count": 4,
   "id": "71689605",
   "metadata": {},
   "outputs": [],
   "source": [
    "def test1():\n",
    "    return 4,3,\"krishna\",[1,2,2,1,1,1]"
   ]
  },
  {
   "cell_type": "code",
   "execution_count": 10,
   "id": "94aa6a11",
   "metadata": {},
   "outputs": [
    {
     "data": {
      "text/plain": [
       "(4, 3, 'krishna', [1, 2, 2, 1, 1, 1])"
      ]
     },
     "execution_count": 10,
     "metadata": {},
     "output_type": "execute_result"
    }
   ],
   "source": [
    "test1()   # by default this is function is saved as tuple"
   ]
  },
  {
   "cell_type": "code",
   "execution_count": 6,
   "id": "8dd6c21a",
   "metadata": {},
   "outputs": [],
   "source": [
    "b= test1()"
   ]
  },
  {
   "cell_type": "code",
   "execution_count": 8,
   "id": "3d8af28e",
   "metadata": {},
   "outputs": [
    {
     "data": {
      "text/plain": [
       "3"
      ]
     },
     "execution_count": 8,
     "metadata": {},
     "output_type": "execute_result"
    }
   ],
   "source": [
    "b[1]"
   ]
  },
  {
   "cell_type": "code",
   "execution_count": 12,
   "id": "1c7e7420",
   "metadata": {},
   "outputs": [],
   "source": [
    "a,b,c,d = 34,4,\"krishna\",\"murali\""
   ]
  },
  {
   "cell_type": "code",
   "execution_count": 13,
   "id": "518bc6d9",
   "metadata": {},
   "outputs": [],
   "source": [
    "x,y,z,h= test1()"
   ]
  },
  {
   "cell_type": "code",
   "execution_count": 14,
   "id": "8c9516c8",
   "metadata": {},
   "outputs": [
    {
     "data": {
      "text/plain": [
       "4"
      ]
     },
     "execution_count": 14,
     "metadata": {},
     "output_type": "execute_result"
    }
   ],
   "source": [
    "x"
   ]
  },
  {
   "cell_type": "code",
   "execution_count": 15,
   "id": "9237cbe0",
   "metadata": {},
   "outputs": [
    {
     "data": {
      "text/plain": [
       "3"
      ]
     },
     "execution_count": 15,
     "metadata": {},
     "output_type": "execute_result"
    }
   ],
   "source": [
    "y"
   ]
  },
  {
   "cell_type": "code",
   "execution_count": 16,
   "id": "6644a044",
   "metadata": {},
   "outputs": [
    {
     "data": {
      "text/plain": [
       "'krishna'"
      ]
     },
     "execution_count": 16,
     "metadata": {},
     "output_type": "execute_result"
    }
   ],
   "source": [
    "z"
   ]
  },
  {
   "cell_type": "code",
   "execution_count": 17,
   "id": "fe49a422",
   "metadata": {},
   "outputs": [],
   "source": [
    "l = [3,4,5,6,7,7,\"sudh\",[1,3,4,54,56],6,7]"
   ]
  },
  {
   "cell_type": "code",
   "execution_count": 18,
   "id": "e75e1be2",
   "metadata": {},
   "outputs": [],
   "source": [
    "def test6(a):\n",
    "    n=[]\n",
    "    if type(a) == list:\n",
    "        for i in a:\n",
    "            if type(i) == int:\n",
    "                n.append(i)\n",
    "            elif type(i)== list:\n",
    "                for j in i:\n",
    "                    if type(j) == int:\n",
    "                        n.append(j)\n",
    "    return n"
   ]
  },
  {
   "cell_type": "code",
   "execution_count": 19,
   "id": "1d17aac2",
   "metadata": {},
   "outputs": [
    {
     "data": {
      "text/plain": [
       "[3, 4, 5, 6, 7, 7, 1, 3, 4, 54, 56, 6, 7]"
      ]
     },
     "execution_count": 19,
     "metadata": {},
     "output_type": "execute_result"
    }
   ],
   "source": [
    "test6(l)"
   ]
  },
  {
   "cell_type": "code",
   "execution_count": 20,
   "id": "18b3b3bd",
   "metadata": {},
   "outputs": [],
   "source": [
    "def test8(c):\n",
    "    if type(c)== dict:\n",
    "        return c.keys()\n",
    "    else:\n",
    "        return \"you have not passed a dic\""
   ]
  },
  {
   "cell_type": "code",
   "execution_count": 21,
   "id": "9e96486d",
   "metadata": {},
   "outputs": [
    {
     "data": {
      "text/plain": [
       "dict_keys(['a', 'b', 'c'])"
      ]
     },
     "execution_count": 21,
     "metadata": {},
     "output_type": "execute_result"
    }
   ],
   "source": [
    "test8({\"a\":\"dsfsf\" , \"b\": 23454, \"c\": [4,4,8,494,7]})"
   ]
  },
  {
   "cell_type": "code",
   "execution_count": 22,
   "id": "b0a57100",
   "metadata": {},
   "outputs": [],
   "source": [
    "def test9(c):\n",
    "    if type(c)== dict:\n",
    "        return c.values()\n",
    "    else:\n",
    "        return \"you have not passed a dic\""
   ]
  },
  {
   "cell_type": "code",
   "execution_count": 23,
   "id": "ae7da6a8",
   "metadata": {},
   "outputs": [
    {
     "data": {
      "text/plain": [
       "dict_values(['dsfsf', 23454, [4, 4, 8, 494, 7]])"
      ]
     },
     "execution_count": 23,
     "metadata": {},
     "output_type": "execute_result"
    }
   ],
   "source": [
    "test9({\"a\":\"dsfsf\" , \"b\": 23454, \"c\": [4,4,8,494,7]})"
   ]
  },
  {
   "cell_type": "code",
   "execution_count": 24,
   "id": "9e6ad6c8",
   "metadata": {},
   "outputs": [],
   "source": [
    "def test9(a,b):\n",
    "    if type(a)== list and type(b)== list:\n",
    "        a.extend(b)\n",
    "        return a\n",
    "    else:\n",
    "        return \"either of your data is not a list\""
   ]
  },
  {
   "cell_type": "code",
   "execution_count": 25,
   "id": "56f8d81f",
   "metadata": {},
   "outputs": [
    {
     "data": {
      "text/plain": [
       "[2, 45, 5, 5, 4545, 89898, 8989, 151, 1515]"
      ]
     },
     "execution_count": 25,
     "metadata": {},
     "output_type": "execute_result"
    }
   ],
   "source": [
    "test9([2,45,5,5,4545],[89898,8989,151,1515])"
   ]
  },
  {
   "cell_type": "code",
   "execution_count": 28,
   "id": "fbf5463c",
   "metadata": {},
   "outputs": [],
   "source": [
    "def test10(n):\n",
    "    \"\"\"\n",
    "    this is a fun to create a tri\n",
    "    you can give input as an int\n",
    "    and you will be able to get output as a triangle\n",
    "    \"\"\"\n",
    "    for i in range(0,n):\n",
    "        for j in range(0,i+1):\n",
    "            print(\"*\", end=\"\")\n",
    "        print( \"\\r\")"
   ]
  },
  {
   "cell_type": "code",
   "execution_count": 29,
   "id": "b2644608",
   "metadata": {},
   "outputs": [
    {
     "name": "stdout",
     "output_type": "stream",
     "text": [
      "*\r\n",
      "**\r\n",
      "***\r\n",
      "****\r\n",
      "*****\r\n",
      "******\r\n",
      "*******\r\n",
      "********\r\n",
      "*********\r\n",
      "**********\r\n"
     ]
    }
   ],
   "source": [
    "test10(10)"
   ]
  },
  {
   "cell_type": "code",
   "execution_count": 30,
   "id": "f57c6d8a",
   "metadata": {},
   "outputs": [],
   "source": [
    "l= \"string\""
   ]
  },
  {
   "cell_type": "code",
   "execution_count": 58,
   "id": "8318f6b7",
   "metadata": {},
   "outputs": [],
   "source": [
    "def len_1(a):\n",
    "    \"\"\"\n",
    "    fun which will take string and return a len of \n",
    "it without using a inbuilt fun len\n",
    "    \"\"\"\n",
    "    k=[]\n",
    "    for i,j in zip(a,range(0,100)):\n",
    "        try:\n",
    "            k=j\n",
    "        except:\n",
    "            pass\n",
    "    return k+1\n",
    "    "
   ]
  },
  {
   "cell_type": "code",
   "execution_count": 55,
   "id": "2dbfaeef",
   "metadata": {},
   "outputs": [],
   "source": [
    "def index_1(a):\n",
    "    \"\"\"\n",
    "    write a function which will be able to print an index of all premitive element\n",
    "    \"\"\"\n",
    "    k=[]\n",
    "    for i,j in zip(a,range(0,100)):\n",
    "        try:\n",
    "            print(f'{i}, {j}')\n",
    "        except:\n",
    "            pass"
   ]
  },
  {
   "cell_type": "code",
   "execution_count": 56,
   "id": "1264b574",
   "metadata": {},
   "outputs": [
    {
     "name": "stdout",
     "output_type": "stream",
     "text": [
      "k, 0\n",
      "r, 1\n",
      "i, 2\n",
      "s, 3\n",
      "h, 4\n",
      "n, 5\n",
      "a, 6\n"
     ]
    }
   ],
   "source": [
    "index_1(\"krishna\")"
   ]
  },
  {
   "cell_type": "code",
   "execution_count": 59,
   "id": "fd4c4d49",
   "metadata": {},
   "outputs": [
    {
     "data": {
      "text/plain": [
       "7"
      ]
     },
     "execution_count": 59,
     "metadata": {},
     "output_type": "execute_result"
    }
   ],
   "source": [
    "len_1(\"krishna\")"
   ]
  },
  {
   "cell_type": "code",
   "execution_count": 72,
   "id": "41488d0d",
   "metadata": {},
   "outputs": [],
   "source": [
    "def dict_5(c):\n",
    "    if type(c) == dict:\n",
    "        h=c.values()\n",
    "        return list(c.values())\n",
    "    elif type(h)==dict:\n",
    "        return list(h.values)\n",
    "    else :\n",
    "        return \" you have to return nothing\""
   ]
  },
  {
   "cell_type": "code",
   "execution_count": 73,
   "id": "e2e7d07e",
   "metadata": {},
   "outputs": [],
   "source": [
    "a ={\"ineruron\":\n",
    "    {\"a\":\"dsfsf\" , \"b\": 23454, \"c\": [4,4,8,494,7]},\n",
    "    \"bneuron\":\n",
    "    {\"b\":\"adjfjlkfj\",\"c\":454545,\"k\": [454545,4,54,545,4]}\n",
    "   }    "
   ]
  },
  {
   "cell_type": "code",
   "execution_count": 74,
   "id": "50940eac",
   "metadata": {},
   "outputs": [
    {
     "data": {
      "text/plain": [
       "[{'a': 'dsfsf', 'b': 23454, 'c': [4, 4, 8, 494, 7]},\n",
       " {'b': 'adjfjlkfj', 'c': 454545, 'k': [454545, 4, 54, 545, 4]}]"
      ]
     },
     "execution_count": 74,
     "metadata": {},
     "output_type": "execute_result"
    }
   ],
   "source": [
    "dict_5(a)"
   ]
  },
  {
   "cell_type": "code",
   "execution_count": null,
   "id": "00b3ad05",
   "metadata": {},
   "outputs": [],
   "source": [
    "if type(a)== dict:\n",
    "    for i in a:\n",
    "        \n",
    "        "
   ]
  }
 ],
 "metadata": {
  "kernelspec": {
   "display_name": "Python 3 (ipykernel)",
   "language": "python",
   "name": "python3"
  },
  "language_info": {
   "codemirror_mode": {
    "name": "ipython",
    "version": 3
   },
   "file_extension": ".py",
   "mimetype": "text/x-python",
   "name": "python",
   "nbconvert_exporter": "python",
   "pygments_lexer": "ipython3",
   "version": "3.9.13"
  }
 },
 "nbformat": 4,
 "nbformat_minor": 5
}
